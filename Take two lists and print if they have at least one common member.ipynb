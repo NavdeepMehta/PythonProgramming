{
 "cells": [
  {
   "cell_type": "markdown",
   "metadata": {},
   "source": [
    "# write a program to take two lists and print if they have at least one common member"
   ]
  },
  {
   "cell_type": "code",
   "execution_count": 254,
   "metadata": {},
   "outputs": [],
   "source": [
    "def check(lst1,lst2):\n",
    "    s=0\n",
    "    lst3=[]\n",
    "    for x in lst1:\n",
    "        for y in lst2:\n",
    "            if x==y:\n",
    "                s=s+1\n",
    "                lst3.append(x)\n",
    "            else:\n",
    "                s=s\n",
    "    if s>0:\n",
    "        print('Common Number Present')\n",
    "        print(f'Number are={lst3}')\n",
    "    else:\n",
    "        print('No common Number')\n",
    "    return None "
   ]
  },
  {
   "cell_type": "code",
   "execution_count": 255,
   "metadata": {},
   "outputs": [
    {
     "name": "stdout",
     "output_type": "stream",
     "text": [
      "Enter how many number u want to enter in list1=5\n",
      "Enter 1 elements of list1=1\n",
      "Enter 2 elements of list1=9\n",
      "Enter 3 elements of list1=2\n",
      "Enter 4 elements of list1=8\n",
      "Enter 5 elements of list1=3\n",
      "Enter how many number u want to enter in list2=3\n",
      "Enter 1 elements of list2=8\n",
      "Enter 2 elements of list2=9\n",
      "Enter 3 elements of list2=4\n"
     ]
    }
   ],
   "source": [
    "lst1=[]\n",
    "lst2=[]\n",
    "n=int(input(\"Enter how many number u want to enter in list1=\"))\n",
    "for i in range(n):\n",
    "    n1=int(input(f\"Enter {i+1} elements of list1=\"))\n",
    "    lst1.append(n1)\n",
    "m=int(input(\"Enter how many number u want to enter in list2=\"))\n",
    "for i in range(m):\n",
    "    m1=int(input(f\"Enter {i+1} elements of list2=\"))\n",
    "    lst2.append(m1)"
   ]
  },
  {
   "cell_type": "code",
   "execution_count": 259,
   "metadata": {},
   "outputs": [
    {
     "name": "stdout",
     "output_type": "stream",
     "text": [
      "Common Number Present\n",
      "Number are=[9, 8]\n"
     ]
    }
   ],
   "source": [
    "c=check(lst1,lst2)"
   ]
  },
  {
   "cell_type": "code",
   "execution_count": 260,
   "metadata": {},
   "outputs": [
    {
     "name": "stdout",
     "output_type": "stream",
     "text": [
      "Common Number Present\n",
      "Number are=[125]\n"
     ]
    }
   ],
   "source": [
    "c=check([121,222,332,432,125], [125,236,457,678,779])"
   ]
  },
  {
   "cell_type": "code",
   "execution_count": 261,
   "metadata": {},
   "outputs": [
    {
     "name": "stdout",
     "output_type": "stream",
     "text": [
      "No common Number\n"
     ]
    }
   ],
   "source": [
    "c=check([1,2,3,4,5], [6,7,8,9])"
   ]
  }
 ],
 "metadata": {
  "kernelspec": {
   "display_name": "Python 3",
   "language": "python",
   "name": "python3"
  },
  "language_info": {
   "codemirror_mode": {
    "name": "ipython",
    "version": 3
   },
   "file_extension": ".py",
   "mimetype": "text/x-python",
   "name": "python",
   "nbconvert_exporter": "python",
   "pygments_lexer": "ipython3",
   "version": "3.8.5"
  }
 },
 "nbformat": 4,
 "nbformat_minor": 4
}
