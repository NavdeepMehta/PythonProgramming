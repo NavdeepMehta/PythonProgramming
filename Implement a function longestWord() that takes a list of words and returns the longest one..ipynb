{
 "cells": [
  {
   "cell_type": "markdown",
   "metadata": {},
   "source": [
    "# Implement a function longestWord() that takes a list of words and returns the longest one."
   ]
  },
  {
   "cell_type": "code",
   "execution_count": 63,
   "metadata": {},
   "outputs": [],
   "source": [
    "def longestWord(a):\n",
    "    x=0\n",
    "    lst=[]\n",
    "    m=0\n",
    "    for i in range (len(a)):\n",
    "        y=len(a[i])\n",
    "        if y>x:\n",
    "            m=i\n",
    "            x=y\n",
    "        else:\n",
    "            m=m\n",
    "            x=x\n",
    "            \n",
    "    return (f'The largest word is:- {a[m]}')   \n",
    "            "
   ]
  },
  {
   "cell_type": "code",
   "execution_count": 66,
   "metadata": {},
   "outputs": [
    {
     "data": {
      "text/plain": [
       "'The largest word is:- One who an do pratice more will sure success one day.Thank You'"
      ]
     },
     "execution_count": 66,
     "metadata": {},
     "output_type": "execute_result"
    }
   ],
   "source": [
    "a=['Ram','Shyam','Ndv','One who an do pratice more will sure success one day','Navdeep',\"This is world largest Tower\",'One who an do pratice more will sure success one day.Thank You']\n",
    "longestWord(a)"
   ]
  }
 ],
 "metadata": {
  "kernelspec": {
   "display_name": "Python 3",
   "language": "python",
   "name": "python3"
  },
  "language_info": {
   "codemirror_mode": {
    "name": "ipython",
    "version": 3
   },
   "file_extension": ".py",
   "mimetype": "text/x-python",
   "name": "python",
   "nbconvert_exporter": "python",
   "pygments_lexer": "ipython3",
   "version": "3.8.5"
  }
 },
 "nbformat": 4,
 "nbformat_minor": 4
}
